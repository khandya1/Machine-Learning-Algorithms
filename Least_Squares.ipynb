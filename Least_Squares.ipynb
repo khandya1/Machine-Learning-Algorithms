{
 "cells": [
  {
   "cell_type": "code",
   "execution_count": 84,
   "metadata": {
    "executionInfo": {
     "elapsed": 1000,
     "status": "ok",
     "timestamp": 1604314258241,
     "user": {
      "displayName": "viswanath iiitb",
      "photoUrl": "",
      "userId": "05385138413223991502"
     },
     "user_tz": -330
    },
    "id": "JFXJIGgtKifk"
   },
   "outputs": [],
   "source": [
    "import os\n",
    "import random"
   ]
  },
  {
   "cell_type": "code",
   "execution_count": 85,
   "metadata": {
    "executionInfo": {
     "elapsed": 1189,
     "status": "ok",
     "timestamp": 1604314263875,
     "user": {
      "displayName": "viswanath iiitb",
      "photoUrl": "",
      "userId": "05385138413223991502"
     },
     "user_tz": -330
    },
    "id": "lBAX4CTgKifo"
   },
   "outputs": [],
   "source": [
    "def generate_dataset(r, c, seed = 42, sample = 0):\n",
    "    '''\n",
    "    Parameters\n",
    "    ----------\n",
    "    A : array-like, shape=[r, c]\n",
    "    b : array-like, shape=[r]\n",
    "    ''' \n",
    "    if sample == 1:\n",
    "        # sample test-case\n",
    "        A = [[1. , 1.],\n",
    "             [1. , 1.],\n",
    "             [1. , 0.]]\n",
    "        b =  [1, 2, 3]\n",
    "        \"\"\"\n",
    "        Q = [[0.5773502691896258, 0.4082482904638628], \n",
    "             [0.5773502691896258, 0.4082482904638628], \n",
    "             [0.5773502691896258, -0.8164965809277263]]\n",
    "        R = [[1.7320508075688776, 1.1547005383792517],\n",
    "             [-6.661338147750939e-16, 0.8164965809277256]]\n",
    "        soln = [3.00, -1.50]\n",
    "        \"\"\"\n",
    "        return A, b\n",
    "    random.seed(seed)\n",
    "    A = [[random.random() for i in range(c)] for j in range(r)]\n",
    "    b = [random.random() for i in range(r)]\n",
    "    return A, b"
   ]
  },
  {
   "cell_type": "code",
   "execution_count": 86,
   "metadata": {
    "executionInfo": {
     "elapsed": 958,
     "status": "ok",
     "timestamp": 1604314265986,
     "user": {
      "displayName": "viswanath iiitb",
      "photoUrl": "",
      "userId": "05385138413223991502"
     },
     "user_tz": -330
    },
    "id": "mjpZ-QW8Kifr"
   },
   "outputs": [],
   "source": [
    "def trans_matrix(M):\n",
    "    n = len(M)\n",
    "    m= len(M[0])\n",
    "    return [[ M[i][j] for i in range(n)] for j in range(m)]\n",
    "\n",
    "def leastSquare(A, b):\n",
    "    \"\"\"\n",
    "    solve the least squares problem using QR decomposition followed by back-substitution\n",
    "    Here, A is the matrix and b is the column vector\n",
    "    \"\"\"\n",
    "    ### YOUR CODE HERE \n",
    "    #perform QR decomposition and obtain the \"Q\" and \"R\" matrices\n",
    "    \n",
    "    #finding norm\n",
    "    \n",
    "    def norm(Q):\n",
    "       \n",
    "        lis=[]\n",
    "       \n",
    "        z=0\n",
    "        for d in Q:\n",
    "            z=d**2+z\n",
    "        z=z**0.5    \n",
    "        for f in Q:\n",
    "            lis.append(f/z)\n",
    "        \n",
    "        return lis   \n",
    "    \n",
    "   \n",
    "    row=len(A)\n",
    "    col=len(A[0])\n",
    "    \n",
    "    rez = [[A[j][i] for j in range(len(A))] for i in range(len(A[0]))]\n",
    "  \n",
    "\n",
    "    Q=[]\n",
    "    Q0=rez[0]\n",
    "    Q.append(norm(Q0))\n",
    "   \n",
    "    for i in range(1,col):\n",
    "        temp1=[[0]*row]\n",
    "        for v in range(i):\n",
    "            a=0\n",
    "            #find scaler product (Q^t*a)\n",
    "            for k,l in zip(rez[i],Q[v]):\n",
    "                a=k*l+a\n",
    "            \n",
    "            #produce scaler product (Q^t*a)*Q\n",
    "            l1=[]    \n",
    "            for j,p in zip(rez[0],Q[v]):\n",
    "                l1.append(a*p)\n",
    "             \n",
    "            l3=[]    \n",
    "            for w,q in zip(l1,temp1[v]):\n",
    "                l3.append(q+w)\n",
    "            temp1.append(l3)\n",
    "            \n",
    "            l2=[]\n",
    "        for x,y in zip(rez[v+1],temp1[v+1]):\n",
    "            l2.append(x-y)\n",
    "         \n",
    "        Q.append(norm(l2))\n",
    "   \n",
    "\n",
    "    result=[[0.0 for i in range(col)]for j in range(col)]\n",
    "    \n",
    "    # iterate through rows of X\n",
    "    for i in range(col):\n",
    "        li00=[]\n",
    "        # iterate through columns of Y\n",
    "        for j in range(col):\n",
    "            # iterate through rows of Y\n",
    "            result[i][j]=0.0\n",
    "            for k in range(row):\n",
    "                #print(Q[i][k],\":::\",A[k][j],\"\\n\")\n",
    "                result[i][j] += Q[i][k] * A[k][j]\n",
    "              \n",
    "    yield trans_matrix(Q), result    \n",
    "   \n",
    "   \n",
    "    #perform back-substitution and obtain the least square solution, \"soln\"\n",
    "  \n",
    "    result1=[[0]for i in range(col)]\n",
    "    # iterate through rows of X\n",
    "    for i in range(len(Q)):\n",
    "        # iterate through columns of Y\n",
    "        for j in range(1):\n",
    "            # iterate through rows of Y\n",
    "            result1[i][j]=0.0\n",
    "            for k in range(len(b)):\n",
    "                result1[i][j] += Q[i][k] * b[k]\n",
    "           \n",
    "    B=result1.copy()\n",
    "    X=[[0 for i in range(1)]for j in range(len(result))]\n",
    "    ln=len(result)-1\n",
    "    for i in range(ln+1):\n",
    "        z=0\n",
    "        I=ln-i\n",
    "        for j in range(ln+1):\n",
    "            if I!=j:\n",
    "                z=result[I][j]*X[j][0]+z\n",
    "            else:\n",
    "                J=j\n",
    "        fn=(B[I][0]-z)/result[J][J]\n",
    "     \n",
    "        X[I][0]=fn\n",
    "    soln=[]    \n",
    "    for i in X:\n",
    "        for j in i:\n",
    "            soln.append(round(j,2))\n",
    "    \n",
    "    yield soln\n",
    "    "
   ]
  },
  {
   "cell_type": "code",
   "execution_count": 87,
   "metadata": {
    "executionInfo": {
     "elapsed": 1874,
     "status": "ok",
     "timestamp": 1604314269728,
     "user": {
      "displayName": "viswanath iiitb",
      "photoUrl": "",
      "userId": "05385138413223991502"
     },
     "user_tz": -330
    },
    "id": "171T8bbGKifv"
   },
   "outputs": [],
   "source": [
    "def main():\n",
    "    seed = 42\n",
    "    ## use sample = 1 to use the sample test-case\n",
    "    A, b, = generate_dataset(3, 2, seed, sample=0)\n",
    "\n",
    "    iterator =  leastSquare(A, b)\n",
    "    \n",
    "    Q, R = next(iterator)\n",
    "    print(\"Q \\n {}\".format(Q))\n",
    "    print(\"R \\n {}\".format(R))\n",
    "\n",
    "    soln = next(iterator)\n",
    "    print(\"Solution \\n {}\".format(soln))"
   ]
  },
  {
   "cell_type": "code",
   "execution_count": 88,
   "metadata": {
    "colab": {
     "base_uri": "https://localhost:8080/",
     "height": 303
    },
    "executionInfo": {
     "elapsed": 1100,
     "status": "error",
     "timestamp": 1604314272946,
     "user": {
      "displayName": "viswanath iiitb",
      "photoUrl": "",
      "userId": "05385138413223991502"
     },
     "user_tz": -330
    },
    "id": "hHn1hUCcKifx",
    "outputId": "93ad584f-a4b3-4047-a3cf-737e24c44b44"
   },
   "outputs": [
    {
     "name": "stdout",
     "output_type": "stream",
     "text": [
      "Q \n",
      " [[0.6309969542971976, -0.7741874703998282], [0.2714034861408441, 0.16020067612520555], [0.7267619908733923, 0.6123475353465072]]\n",
      "R \n",
      " [[1.0133595639460338, 0.5681613495503163], [2.220446049250313e-16, 0.43077076114488627]]\n",
      "Solution \n",
      " [1.43, -0.97]\n"
     ]
    }
   ],
   "source": [
    "main()"
   ]
  },
  {
   "cell_type": "code",
   "execution_count": null,
   "metadata": {},
   "outputs": [],
   "source": []
  },
  {
   "cell_type": "code",
   "execution_count": null,
   "metadata": {},
   "outputs": [],
   "source": []
  },
  {
   "cell_type": "code",
   "execution_count": null,
   "metadata": {},
   "outputs": [],
   "source": []
  }
 ],
 "metadata": {
  "colab": {
   "name": "Student.ipynb",
   "provenance": []
  },
  "kernelspec": {
   "display_name": "Python 3",
   "language": "python",
   "name": "python3"
  },
  "language_info": {
   "codemirror_mode": {
    "name": "ipython",
    "version": 3
   },
   "file_extension": ".py",
   "mimetype": "text/x-python",
   "name": "python",
   "nbconvert_exporter": "python",
   "pygments_lexer": "ipython3",
   "version": "3.8.3"
  }
 },
 "nbformat": 4,
 "nbformat_minor": 1
}
